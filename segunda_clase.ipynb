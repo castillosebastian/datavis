{
 "cells": [
  {
   "cell_type": "code",
   "execution_count": null,
   "metadata": {},
   "outputs": [],
   "source": []
  }
 ],
 "metadata": {
  "kernelspec": {
   "display_name": "base",
   "language": "python",
   "name": "python3"
  },
  "language_info": {
   "name": "python",
   "version": "3.9.13"
  },
  "orig_nbformat": 4,
  "vscode": {
   "interpreter": {
    "hash": "57a05d53760aa3615388aeb473f21e09c80fa6b7680fb3ef0d3ec87ed96ed19b"
   }
  }
 },
 "nbformat": 4,
 "nbformat_minor": 2
}
